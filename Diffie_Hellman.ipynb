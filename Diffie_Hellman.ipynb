{
 "cells": [
  {
   "cell_type": "markdown",
   "id": "552b0fe2",
   "metadata": {},
   "source": [
    "# Problem logarytmu dyskretnego\n",
    "\n",
    "Niech $(G,\\circ)$ będzie grupą z działaniem $\\circ$ i elementem neutralnym $1_G$. Wtedy dla dowolnego elementu $a\\in G$ i $k\\in\\mathbb{Z}$ definiujemy *potęgę* $$a^k =\\left\\{\\begin{array}{cc}\n",
    "\\underbrace{a\\circ a\\circ \\ldots \\circ a}_{k}&\\text{ dla }k>0\\\\\n",
    "1_G&\\text{ dla }k=0\\\\\n",
    "\\underbrace{a^{-1}\\circ a^{-1}\\circ \\ldots \\circ a^{-1}}_{k}&\\text{ dla }k<0\n",
    "\\end{array}\\right.$$\n",
    "gdzie $a^{-1}$ jest elementem odwrotnym do $a$.\n",
    "\n",
    "Dla $a,b\\in G$, $b\\neq 1_G$, *logarytmem dyskretnym* $\\log_b a$ jest każda liczba $k\\in\\mathbb{Z}$ taka, że $b^k=a$.\n",
    "\n",
    "## Logarytm dyskretny w $\\mathbb{Z}_n$\n",
    "\n",
    "W przypadku pierścienia $\\mathbb{Z}_n$ logarytmem dyskretnym $\\log_b a$ jest każda liczba $k\\in\\mathbb{Z}$ taka, że $b^k=a\\mod n$, o ile w ogóle istnieje.\n",
    "\n",
    "Specyficzną sytuacją w teorii liczb jest gdy $n=p$ jest liczbą pierwszą a $q$ jest pierwiastkiem pierwotnym $\\mod p$. Wtedy:\n",
    "- potęgi $q^k\\mod p$ generują cały zbiór $[1,p-1]$, tzn. $q$ jest generatorem grupy multiplikatywneh rzędu $p-1$\n",
    "- logarytm dyskretny $\\log_q a$ istnieje dla każdego niezerowego elementu $a\\in \\mathbb{Z}_p$\n",
    "\n",
    "## Algorytm baby-step giant-step\n",
    "\n",
    "Jeden z najprostszych (poza metodą naiwną) algorytmów poszukiwania logarytmu dyskretnego w grupach cyklicznych.\n",
    "\n",
    "Niech $p$ będzie liczbą pierwszą oraz niech $q$ będzie pierwiastkiem pierwotnym modulo $p$. Dla niezerowego $a\\in\\mathbb{Z}_p$ szukamy liczby $k\\in\\mathbb{Z}$ takiej, że $q^k=a\\mod p$\n",
    "\n",
    "### Krok 1.\n",
    "- $m=\\lceil\\sqrt{p-1}\\rceil$\n",
    "- tworzymy pomocniczą tablicę potęg: dla wszystkich $i\\in [0,m)$ obliczamy parę $(i,q^i)$\n",
    "- obliczamy $r=(q^{-1})^m$\n",
    "### Krok 2.\n",
    "- $b=a$\n",
    "- dla wszystkich $j\\in [0,m)$:\n",
    "    - sprawdzamy, czy para $(i,b)$ jest elementem tablicy potęg dla pewnego $i$\n",
    "    - jeżeli tak, to $k=jm+i$ i kończymy algorytm\n",
    "    - jeżeli nie, to $b=br$ i kontynuujemy pętlę\n"
   ]
  },
  {
   "cell_type": "markdown",
   "id": "0a168713",
   "metadata": {},
   "source": [
    "## Zadanie 1.\n",
    "\n",
    "Zaimplementować algorytm baby-step giant-step. Przetestować dla podanych danych testujących.\n",
    "\n",
    "```Dane testujące:\n",
    "p = 7\n",
    "q = 3\n",
    "a = 4\n",
    "\n",
    "m = 3\n",
    "tablica_testowa = [1,3,2]\n",
    "r = 6\n",
    "k = 4 (j = 1, i = 1)\n",
    "```\n",
    "\n",
    "```\n",
    "p = 29\n",
    "q = 8\n",
    "a = 10\n",
    "\n",
    "m = 6\n",
    "tablica_testowa = [1,8,6,19,7,27]\n",
    "r = 9\n",
    "k = 17 (j = 2, i = 5)\n",
    "```\n",
    "\n",
    "```\n",
    "p = 113\n",
    "q = 76\n",
    "a = 84\n",
    "\n",
    "m = 11\n",
    "tablica_testowa = [1,76,13,84,56,75,50,71,85,19,88]\n",
    "r = 70\n",
    "k = 3 (j = 0, i = 3)\n",
    "```"
   ]
  },
  {
   "cell_type": "code",
   "execution_count": 1,
   "id": "9c934933",
   "metadata": {
    "execution": {
     "iopub.execute_input": "2025-01-09T16:56:04.798318Z",
     "iopub.status.busy": "2025-01-09T16:56:04.797048Z",
     "iopub.status.idle": "2025-01-09T16:56:04.805236Z",
     "shell.execute_reply": "2025-01-09T16:56:04.805236Z",
     "shell.execute_reply.started": "2025-01-09T16:56:04.798318Z"
    }
   },
   "outputs": [],
   "source": [
    "from math import sqrt, ceil\n",
    "\n",
    "def baby_step(p,q, debug=True):\n",
    "    m = ceil(sqrt(p-1))\n",
    "    if debug:\n",
    "        print(f\"m = {m}\")\n",
    "    test_table = []\n",
    "    for i in range(m):\n",
    "        test_table.append((i,pow(q,i,p)))\n",
    "    if debug:\n",
    "        print(f\"tablica testowa = {test_table}\")\n",
    "    r = pow(q,-m,p)\n",
    "    \n",
    "    if debug:\n",
    "        print(f\"r = {r}\")\n",
    "\n",
    "    return m, test_table, r\n",
    "\n",
    "def giant_step(p,q,a, debug=True):\n",
    "    m, test_table, r = baby_step(p,q,debug)\n",
    "    b = a % p\n",
    "    for j in range(m):\n",
    "        for i in range(m):\n",
    "            if (i,b) == test_table[i]:\n",
    "                k = (j*m + i) % p\n",
    "                if debug:\n",
    "                    print(f\"k = {k} (j = {j}, i = {i})\")\n",
    "                return k \n",
    "        b = (b*r) % p"
   ]
  },
  {
   "cell_type": "code",
   "execution_count": 2,
   "id": "dc63341c",
   "metadata": {
    "execution": {
     "iopub.execute_input": "2025-01-09T16:56:04.806832Z",
     "iopub.status.busy": "2025-01-09T16:56:04.806832Z",
     "iopub.status.idle": "2025-01-09T16:56:04.819306Z",
     "shell.execute_reply": "2025-01-09T16:56:04.819306Z",
     "shell.execute_reply.started": "2025-01-09T16:56:04.806832Z"
    }
   },
   "outputs": [
    {
     "name": "stdout",
     "output_type": "stream",
     "text": [
      "m = 3\n",
      "tablica testowa = [(0, 1), (1, 3), (2, 2)]\n",
      "r = 6\n",
      "k = 4 (j = 1, i = 1)\n",
      "m = 6\n",
      "tablica testowa = [(0, 1), (1, 8), (2, 6), (3, 19), (4, 7), (5, 27)]\n",
      "r = 9\n",
      "k = 17 (j = 2, i = 5)\n",
      "m = 11\n",
      "tablica testowa = [(0, 1), (1, 76), (2, 13), (3, 84), (4, 56), (5, 75), (6, 50), (7, 71), (8, 85), (9, 19), (10, 88)]\n",
      "r = 70\n",
      "k = 3 (j = 0, i = 3)\n"
     ]
    },
    {
     "data": {
      "text/plain": [
       "3"
      ]
     },
     "execution_count": 2,
     "metadata": {},
     "output_type": "execute_result"
    }
   ],
   "source": [
    "giant_step(7,3,4)\n",
    "giant_step(29,8,10)\n",
    "giant_step(113,76,84)"
   ]
  },
  {
   "cell_type": "markdown",
   "id": "812b4993",
   "metadata": {},
   "source": [
    "# Wymiana klucza typu Diffie-Hellman\n",
    "\n",
    "Alice i Bob uzgadniają klucz publiczny będący liczbą pierwszą $p$ oraz $q$ - pierwiastkiem pierwotnym mod $p$.\n",
    "- sekret Alice: liczba całkowita $n\\in \\mathbb{Z}_p\\setminus\\{0\\}$\n",
    "- sekret Boba: liczba całkowita $m\\in \\mathbb{Z}_p\\setminus\\{0\\}$\n",
    "- Alice generuje $x=q^n\\mod p$ i wysyła do Boba\n",
    "- Bob generuje $y=q^m\\mod p$ i wysyła Alice\n",
    "- Alice oblicza klucz $k=y^n\\mod p$\n",
    "- Bob oblicza klucz $k=x^m\\mod p$\n"
   ]
  },
  {
   "cell_type": "markdown",
   "id": "076f56f9",
   "metadata": {},
   "source": [
    "## Zadanie 2.\n",
    "\n",
    "Zaimplementuj powyższy algorytm wymiany klucza. Dobierz parametry $p$ i $q$ tak, żeby znając $x$, $y$, $p$ i $q$ nie dało się odtworzyć sekretów algorytmem z zadania 1."
   ]
  },
  {
   "cell_type": "code",
   "execution_count": 32,
   "id": "0310077f",
   "metadata": {
    "execution": {
     "iopub.execute_input": "2025-01-09T17:15:21.557163Z",
     "iopub.status.busy": "2025-01-09T17:15:21.557163Z",
     "iopub.status.idle": "2025-01-09T17:15:21.565029Z",
     "shell.execute_reply": "2025-01-09T17:15:21.564970Z",
     "shell.execute_reply.started": "2025-01-09T17:15:21.557163Z"
    },
    "scrolled": true
   },
   "outputs": [
    {
     "name": "stdout",
     "output_type": "stream",
     "text": [
      "Pierwiastek pierwotny z 2137: 2\n"
     ]
    }
   ],
   "source": [
    "from random import randint\n",
    "\n",
    "def Diffie_Hellman(p,q):\n",
    "    n = randint(1,p-1)\n",
    "    print(f\"Alice generated {n}\")\n",
    "    m = randint(1,p-1)\n",
    "    print(f\"BOB generated {m}\")\n",
    "    x = pow(q,n,p)\n",
    "    print(f\"Alice sent {x}\")\n",
    "    y = pow(q,m,p)\n",
    "    print(f\"BOB sent {y}\")\n",
    "\n",
    "    k_ALICE = pow(y,n,p)\n",
    "    print(f\"Alice calculated k = {k_ALICE}\")\n",
    "    k_BOB = pow(x,m,p)\n",
    "    print(f\"BOB calculated k = {k_BOB}\")\n",
    "    return n, m, k_ALICE, x, y\n",
    "\n",
    "\n",
    "def is_primitive_root(g, p):\n",
    "    if p <= 2:\n",
    "        return False\n",
    "\n",
    "\n",
    "    factors = []\n",
    "    n = p - 1\n",
    "    for i in range(2, int(n**0.5) + 1):\n",
    "        if n % i == 0:\n",
    "            factors.append(i)\n",
    "            while n % i == 0:\n",
    "                n //= i\n",
    "    if n > 1:\n",
    "        factors.append(n)\n",
    "\n",
    "    for factor in factors:\n",
    "        if pow(g, p - 1 // factor, p) == 1:\n",
    "            return False\n",
    "    return True\n",
    "\n",
    "\n",
    "def find_primitive_root(p):\n",
    "    for g in range(2, p):\n",
    "        if is_primitive_root(g, p):\n",
    "            return g\n",
    "    return None\n",
    "\n",
    "\n",
    "p = 2137\n",
    "primitive_root = find_primitive_root(p)\n",
    "print(f\"Pierwiastek pierwotny z {p}: {primitive_root}\")"
   ]
  },
  {
   "cell_type": "code",
   "execution_count": 33,
   "id": "14a18ac8",
   "metadata": {
    "execution": {
     "iopub.execute_input": "2025-01-09T17:15:23.640439Z",
     "iopub.status.busy": "2025-01-09T17:15:23.640439Z",
     "iopub.status.idle": "2025-01-09T17:15:23.707464Z",
     "shell.execute_reply": "2025-01-09T17:15:23.707464Z",
     "shell.execute_reply.started": "2025-01-09T17:15:23.640439Z"
    }
   },
   "outputs": [
    {
     "name": "stdout",
     "output_type": "stream",
     "text": [
      "Pierwiastek pierwotny z 2199023255551: 2\n"
     ]
    }
   ],
   "source": [
    "p = 2**41 - 1\n",
    "primitive_root = find_primitive_root(p)\n",
    "print(f\"Pierwiastek pierwotny z {p}: {primitive_root}\")"
   ]
  },
  {
   "cell_type": "code",
   "execution_count": 39,
   "id": "7edda460-ce0b-4d48-95a6-99acc4bfad94",
   "metadata": {
    "execution": {
     "iopub.execute_input": "2025-01-09T18:44:32.913244Z",
     "iopub.status.busy": "2025-01-09T18:44:32.912239Z",
     "iopub.status.idle": "2025-01-09T18:44:34.063224Z",
     "shell.execute_reply": "2025-01-09T18:44:34.063224Z",
     "shell.execute_reply.started": "2025-01-09T18:44:32.913244Z"
    }
   },
   "outputs": [
    {
     "name": "stdout",
     "output_type": "stream",
     "text": [
      "============================2137======================\n",
      "Alice generated 1182\n",
      "BOB generated 96\n",
      "Alice sent 114\n",
      "BOB sent 1357\n",
      "Alice calculated k = 2100\n",
      "BOB calculated k = 2100\n",
      "\n",
      "Found Alice secret 114\n",
      "Found BOB secret 96\n",
      "\n",
      "==============================================================================\n",
      "Czy Alicji sekret wykryty? False\n",
      "Czy Boba sekret wykryty? True\n",
      "==============================================================================\n",
      "\n",
      "==========================10 000 019======================\n",
      "Alice generated 2350703\n",
      "BOB generated 7475058\n",
      "Alice sent 9721626\n",
      "BOB sent 2663747\n",
      "Alice calculated k = 9904697\n",
      "BOB calculated k = 9904697\n",
      "\n",
      "Found Alice secret None\n",
      "Found BOB secret None\n",
      "\n",
      "==============================================================================\n",
      "Czy Alicji sekret wykryty? False\n",
      "Czy Boba sekret wykryty? False\n",
      "==============================================================================\n",
      "\n"
     ]
    }
   ],
   "source": [
    "print(\"============================2137======================\")\n",
    "p = 2137\n",
    "q = find_primitive_root(p)\n",
    "\n",
    "n, m, k, x, y = Diffie_Hellman(p,q)\n",
    "\n",
    "print()\n",
    "n_to_check = giant_step(p,q,x, debug=False)\n",
    "m_to_check = giant_step(p,q,y, debug=False)\n",
    "\n",
    "\n",
    "print(f\"Found Alice secret {n_to_check}\")\n",
    "print(f\"Found BOB secret {m_to_check}\")\n",
    "\n",
    "print()\n",
    "print(\"==============================================================================\")\n",
    "print(\"Czy Alicji sekret wykryty?\", n == n_to_check)\n",
    "print(\"Czy Boba sekret wykryty?\", m == m_to_check)\n",
    "print(\"==============================================================================\")\n",
    "print()\n",
    "\n",
    "print(\"==========================10 000 019======================\")\n",
    "p = 10000019\n",
    "q = find_primitive_root(p)\n",
    "\n",
    "\n",
    "n, m, k, x, y = Diffie_Hellman(p,3)\n",
    "\n",
    "print()\n",
    "n_to_check = giant_step(p,q,x, debug=False)\n",
    "m_to_check = giant_step(p,q,y, debug=False)\n",
    "\n",
    "print(f\"Found Alice secret {n_to_check}\")\n",
    "print(f\"Found BOB secret {m_to_check}\")\n",
    "\n",
    "print()\n",
    "print(\"==============================================================================\")\n",
    "print(\"Czy Alicji sekret wykryty?\", n == n_to_check)\n",
    "print(\"Czy Boba sekret wykryty?\", m == m_to_check)\n",
    "print(\"==============================================================================\")\n",
    "print()"
   ]
  },
  {
   "cell_type": "code",
   "execution_count": null,
   "id": "3d681bb9-0784-42e3-a71c-a915b6c6760f",
   "metadata": {},
   "outputs": [],
   "source": []
  }
 ],
 "metadata": {
  "kernelspec": {
   "display_name": "Python 3 (ipykernel)",
   "language": "python",
   "name": "python3"
  },
  "language_info": {
   "codemirror_mode": {
    "name": "ipython",
    "version": 3
   },
   "file_extension": ".py",
   "mimetype": "text/x-python",
   "name": "python",
   "nbconvert_exporter": "python",
   "pygments_lexer": "ipython3",
   "version": "3.12.7"
  }
 },
 "nbformat": 4,
 "nbformat_minor": 5
}
