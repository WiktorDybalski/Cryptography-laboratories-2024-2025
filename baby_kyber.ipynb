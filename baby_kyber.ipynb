{
 "cells": [
  {
   "cell_type": "markdown",
   "id": "4680a3d8",
   "metadata": {},
   "source": [
    "# Mini Projekt - Baby Kyber"
   ]
  },
  {
   "cell_type": "markdown",
   "id": "c444d5d3",
   "metadata": {},
   "source": [
    "## Pierścień $\\mathbb{Z}_{17}[X]/(X^4+1)$"
   ]
  },
  {
   "cell_type": "code",
   "execution_count": 10,
   "id": "1279a018",
   "metadata": {
    "execution": {
     "iopub.execute_input": "2025-01-23T21:52:10.373289Z",
     "iopub.status.busy": "2025-01-23T21:52:10.372212Z",
     "iopub.status.idle": "2025-01-23T21:52:10.383827Z",
     "shell.execute_reply": "2025-01-23T21:52:10.383827Z",
     "shell.execute_reply.started": "2025-01-23T21:52:10.373289Z"
    }
   },
   "outputs": [],
   "source": [
    "# skopiuj pierścień ilorazowy wielomianów z pierwszych zajęć\n",
    "\n",
    "import numpy as np\n",
    "\n",
    "class ZnW:\n",
    "    \n",
    "    def __init__(self,X):\n",
    "        self.n = 17\n",
    "        self.W = [1,0,0,0,1]\n",
    "        self.max_pow = len(self.W) - 1\n",
    "        self.X = [num % self.n for num in self.polynomial_remainder(X)]\n",
    "\n",
    "\n",
    "    def polynomial_remainder(self,dividend):\n",
    "        divisor = self.W[:]\n",
    "        \n",
    "        while len(dividend) >= len(divisor):\n",
    "\n",
    "            lead_coeff = dividend[0] / divisor[0]\n",
    "            degree_diff = len(dividend) - len(divisor)\n",
    "            \n",
    "\n",
    "            scaled_divisor = [coeff * lead_coeff for coeff in divisor] + [0] * degree_diff\n",
    "            dividend = [d - s for d, s in zip(dividend, scaled_divisor)]\n",
    "\n",
    "            while dividend and dividend[0] == 0:\n",
    "                dividend.pop(0)\n",
    "\n",
    "            for i in range(len(dividend)):\n",
    "                if dividend[i] != 0:\n",
    "                    dividend[i] = int(dividend[i] % self.n)\n",
    "        \n",
    "        return dividend\n",
    "    \n",
    "    def __add__(self, o):\n",
    "        len_self = len(self.X)\n",
    "        len_other = len(o.X)\n",
    "\n",
    "        if len_self < len_other:\n",
    "            X_self = [0] * (len_other - len_self) + self.X\n",
    "            X_other = o.X\n",
    "        else:\n",
    "            X_self = self.X\n",
    "            X_other = [0] * (len_self - len_other) + o.X\n",
    "        \n",
    "        res = np.add(X_self,X_other)\n",
    "        return ZnW(res)\n",
    "\n",
    "    def __sub__(self, o):\n",
    "        len_self = len(self.X)\n",
    "        len_other = len(o.X)\n",
    "\n",
    "        if len_self < len_other:\n",
    "            X_self = [0] * (len_other - len_self) + self.X\n",
    "            X_other = o.X\n",
    "        else:\n",
    "            X_self = self.X\n",
    "            X_other = [0] * (len_self - len_other) + o.X\n",
    "\n",
    "        res = [(x1 - x2) % self.n for x1, x2 in zip(X_self, X_other)]\n",
    "        return ZnW(res)\n",
    "        \n",
    "    def __mul__(self,o):\n",
    "        if isinstance(o,ZnW):\n",
    "            len_self = len(self.X)\n",
    "            len_other = len(o.X)\n",
    "\n",
    "            if len_self < len_other:\n",
    "                X_self = [0] * (len_other - len_self) + self.X\n",
    "                X_other = o.X\n",
    "            else:\n",
    "                X_self = self.X\n",
    "                X_other = [0] * (len_self - len_other) + o.X\n",
    "\n",
    "            return ZnW(np.polymul(X_self,X_other))\n",
    "        elif isinstance(o,int):\n",
    "            return ZnW([i * o for i in self.X])\n",
    "    \n",
    "    def __rmul__(self, o):\n",
    "        return self.__mul__(o)\n",
    "    \n",
    "\n",
    "    def __str__(self):\n",
    "        return f\"{\" \".join(str(i) for i in self.X)}\""
   ]
  },
  {
   "cell_type": "markdown",
   "id": "ffc5b429",
   "metadata": {},
   "source": [
    "## Baby Kyber\n",
    "\n",
    "Zaimplementuj poniższe elementy kryptosystemu Baby Kyber tak, aby osiągnąć jak największą skuteczność w testach (przy niezerowych błędach). Wymagana minimalna skuteczność to 60%."
   ]
  },
  {
   "cell_type": "code",
   "execution_count": null,
   "id": "25dbaa51",
   "metadata": {},
   "outputs": [],
   "source": []
  },
  {
   "cell_type": "markdown",
   "id": "9d5febcb",
   "metadata": {},
   "source": [
    "### Generowanie klucza\n",
    "\n",
    "Zaimplementuj funkcję `key_gen()` realizującą generowanie klucza w kryptosystemie Baby Kyber. Funkcja ma zwracać `A,t,s`. Przetestuj, czy dla podanych $A,s,e$ otrzymasz poprawny wielomian $t$.\n",
    "\n",
    "$A=\\left[\\begin{matrix}\n",
    "    6x^3+16x^2+16x+11&9x^3+4x^2+6x+3\\\\\n",
    "    5x^3+3x^2+10x+1&6x^3+x^2+9x+15\n",
    "\\end{matrix}\\right]$\n",
    "\n",
    "$\\mathbf{s}=(-x^3-x^2+x,-x^3-x)$\n",
    "\n",
    "$\\mathbf{e}=(x^2,x^2-x)$\n",
    "\n",
    "$\\mathbf{t}=A\\mathbf{s}+\\mathbf{e}:\\ \\ \\mathbf{t}=(16x^3+15x^2+7,10x^3+12x^2+11x+6)$"
   ]
  },
  {
   "cell_type": "code",
   "execution_count": 2,
   "id": "5861ee4d-8f9e-482f-b8ee-a47917d27f46",
   "metadata": {
    "execution": {
     "iopub.execute_input": "2025-01-23T21:50:50.330380Z",
     "iopub.status.busy": "2025-01-23T21:50:50.329334Z",
     "iopub.status.idle": "2025-01-23T21:50:50.334492Z",
     "shell.execute_reply": "2025-01-23T21:50:50.334492Z",
     "shell.execute_reply.started": "2025-01-23T21:50:50.330380Z"
    }
   },
   "outputs": [],
   "source": [
    "def format_polynomial(znw_obj):\n",
    "    coeffs = znw_obj.X\n",
    "    terms = []\n",
    "    for i, coeff in enumerate(reversed(coeffs)):\n",
    "        if coeff != 0:\n",
    "            term = f\"{coeff}\" if i == 0 else (f\"{coeff}x^{i}\" if i > 1 else f\"{coeff}x\")\n",
    "            terms.append(term)\n",
    "    return \" + \".join(terms[::-1]) if terms else \"0\"\n",
    "\n",
    "def print_t(t):\n",
    "    print(\"\\nWynik t:\")\n",
    "    formatted_t = [format_polynomial(poly) for poly in t]\n",
    "    for i, poly in enumerate(formatted_t):\n",
    "        print(f\"t[{i}] = {poly}\")"
   ]
  },
  {
   "cell_type": "code",
   "execution_count": 3,
   "id": "29911ebc-7049-4475-8f00-e08dd2400f97",
   "metadata": {
    "execution": {
     "iopub.execute_input": "2025-01-23T21:50:50.336011Z",
     "iopub.status.busy": "2025-01-23T21:50:50.336011Z",
     "iopub.status.idle": "2025-01-23T21:50:50.339668Z",
     "shell.execute_reply": "2025-01-23T21:50:50.339618Z",
     "shell.execute_reply.started": "2025-01-23T21:50:50.336011Z"
    }
   },
   "outputs": [],
   "source": [
    "def is_zero_vector(X):\n",
    "    for x in X:\n",
    "        if x != 0:\n",
    "            return False\n",
    "    return True"
   ]
  },
  {
   "cell_type": "code",
   "execution_count": 4,
   "id": "069eefca",
   "metadata": {
    "execution": {
     "iopub.execute_input": "2025-01-23T21:50:50.340673Z",
     "iopub.status.busy": "2025-01-23T21:50:50.340673Z",
     "iopub.status.idle": "2025-01-23T21:50:50.350190Z",
     "shell.execute_reply": "2025-01-23T21:50:50.350190Z",
     "shell.execute_reply.started": "2025-01-23T21:50:50.340673Z"
    }
   },
   "outputs": [
    {
     "name": "stdout",
     "output_type": "stream",
     "text": [
      "\n",
      "Wynik t:\n",
      "t[0] = 16x^3 + 15x^2 + 7\n",
      "t[1] = 10x^3 + 12x^2 + 11x + 6\n"
     ]
    }
   ],
   "source": [
    "import secrets\n",
    "import random\n",
    "def key_gen(test=False):\n",
    "    A = []\n",
    "    s = []\n",
    "    e = []\n",
    "    t = [ZnW([0]), ZnW([0])]\n",
    "    if test:\n",
    "        A = [[ZnW([secrets.randbelow(17) for _ in range(4)]) for _ in range(2)] for _ in range(2)]\n",
    "        while True:\n",
    "            s_temp = [ZnW([secrets.choice([-1,0,0,0,0,0,0,0,0,1]) for _ in range(4)]) for _ in range(2)]\n",
    "            if not all(is_zero_vector(vec.X) for vec in s_temp):\n",
    "                s = s_temp\n",
    "                break\n",
    "        \n",
    "        while True:\n",
    "            e_temp = [ZnW([secrets.choice([-1,0,0,0,0,0,0,0,0,1]) for _ in range(4)]) for _ in range(2)]\n",
    "            if not all(is_zero_vector(vec.X) for vec in e_temp):\n",
    "                e = e_temp\n",
    "                break\n",
    "    else:\n",
    "        A = [[ZnW([6, 16, 16, 11]), ZnW([9, 4, 6, 3])],[ZnW([5, 3, 10, 1]), ZnW([6, 1, 9, 15])]]\n",
    "        s = [ZnW([-1, -1, 1, 0]), ZnW([-1, 0, -1, 0])]\n",
    "        e = [ZnW([0, 1, 0, 0]), ZnW([0, 1, -1, 0])]\n",
    "\n",
    "    for i in range(2):\n",
    "        for j in range(2):\n",
    "            t[i] = t[i] + A[i][j] * s[j]\n",
    "        t[i] = t[i] + e[i]\n",
    "\n",
    "    return A, t, s\n",
    "\n",
    "A, t, s = key_gen()\n",
    "print_t(t)"
   ]
  },
  {
   "cell_type": "markdown",
   "id": "60e43683",
   "metadata": {},
   "source": [
    "### Szyfrowanie\n",
    "\n",
    "Zaimplementuj funkcję `encrypt(A,t,m)` realizującą szyfrowanie w kryptosystemie Baby Kyber a gdzie wejściowe `m` jest w postaci listy. Funkcja ma zwracać szyfrogram `c`. Przetestuj poprawność działania na poniższych danych. \n",
    "\n",
    "$m=1\\cdot x^3+0\\cdot x^2+1\\cdot x+1=x^3+x+1$\n",
    "\n",
    "$\\mathbf{r}=(-x^3+x^2,x^3+x^2-1)$\n",
    "\n",
    "$\\mathbf{e_1}=(x^2+x,x^2)$\n",
    "\n",
    "$e_2=-x^3-x^2$\n",
    "\n",
    "$\\mathbf{u}=A^T\\mathbf{r}+\\mathbf{e_1}:\\ \\ \\mathbf{u}=(11x^3+11x^2+10x+3,4x^3+4x^2+13x+11)$\n",
    "\n",
    "$v=\\mathbf{t}^T\\mathbf{r}+e_2+\\lfloor\\frac{q}{2}\\rceil m:\\ \\ v=8x^3+6x^2+9x+16$\n",
    "\n",
    "$\\mathbf{c}=(\\mathbf{u},v):\\ \\ \\mathbf{c}=((11x^3+11x^2+10x+3,4x^3+4x^2+13x+11),8x^3+6x^2+9x+16)$"
   ]
  },
  {
   "cell_type": "code",
   "execution_count": 5,
   "id": "2be1cba1-06cf-495a-8907-d295ee78e4c7",
   "metadata": {
    "execution": {
     "iopub.execute_input": "2025-01-23T21:50:50.351250Z",
     "iopub.status.busy": "2025-01-23T21:50:50.351250Z",
     "iopub.status.idle": "2025-01-23T21:50:50.354913Z",
     "shell.execute_reply": "2025-01-23T21:50:50.354913Z",
     "shell.execute_reply.started": "2025-01-23T21:50:50.351250Z"
    }
   },
   "outputs": [],
   "source": [
    "def print_encryption_result(u, v):\n",
    "    print(\"\\nZaszyfrowane wartości:\\n\")\n",
    "\n",
    "    print(\"u = [\")\n",
    "    for i, poly in enumerate(u):\n",
    "        formatted_poly = format_polynomial(poly)\n",
    "        print(f\"  u[{i}] = {formatted_poly}\")\n",
    "    print(\"]\")\n",
    "\n",
    "    print(\"\\nv = \", format_polynomial(v))"
   ]
  },
  {
   "cell_type": "code",
   "execution_count": 6,
   "id": "902d15cc",
   "metadata": {
    "execution": {
     "iopub.execute_input": "2025-01-23T21:50:50.356429Z",
     "iopub.status.busy": "2025-01-23T21:50:50.355922Z",
     "iopub.status.idle": "2025-01-23T21:50:50.365934Z",
     "shell.execute_reply": "2025-01-23T21:50:50.365878Z",
     "shell.execute_reply.started": "2025-01-23T21:50:50.356429Z"
    }
   },
   "outputs": [
    {
     "name": "stdout",
     "output_type": "stream",
     "text": [
      "\n",
      "Zaszyfrowane wartości:\n",
      "\n",
      "u = [\n",
      "  u[0] = 11.0x^3 + 11.0x^2 + 10.0x + 3.0\n",
      "  u[1] = 4x^3 + 4x^2 + 13x + 11\n",
      "]\n",
      "\n",
      "v =  8x^3 + 6x^2 + 9x + 16\n"
     ]
    }
   ],
   "source": [
    "def encrypt(A, t, m, test=False):\n",
    "    q = 17\n",
    "    q_div = q // 2 + 1\n",
    "    if test:\n",
    "        while True:\n",
    "            r_temp = [ZnW([secrets.choice([-1,0,0,0,0,0,0,0,0,1]) for _ in range(4)]) for _ in range(2)]\n",
    "            if not all(is_zero_vector(vec.X) for vec in r_temp):\n",
    "                r = r_temp\n",
    "                break\n",
    "        else:\n",
    "            if all(is_zero_vector(vec.X) for vec in r):\n",
    "                raise ValueError(\"r cannot be all zero vectors\")\n",
    "    \n",
    "        while True:\n",
    "            e1_temp = [ZnW([secrets.choice([-1,0,0,0,0,0,0,0,0,1]) for _ in range(4)]) for _ in range(2)]\n",
    "            if not all(is_zero_vector(vec.X) for vec in e1_temp):\n",
    "                e1 = e1_temp\n",
    "                break\n",
    "        else:\n",
    "            if all(is_zero_vector(vec.X) for vec in e1):\n",
    "                raise ValueError(\"e1 cannot be all zero vectors\")\n",
    "        \n",
    "        while True:\n",
    "            e2_temp = ZnW([secrets.choice([-1,0,0,0,0,0,0,0,0,1]) for _ in range(4)])\n",
    "            if not is_zero_vector(e2_temp.X):\n",
    "                e2 = e2_temp\n",
    "                break\n",
    "    else:\n",
    "        r = [ZnW([-1, 1, 0, 0]), ZnW([1, 1, 0, -1])]\n",
    "        e1 = [ZnW([0, 1, 1, 0]), ZnW([0, 1, 0, 0])]\n",
    "        e2 = ZnW([-1, -1, 0, 0])\n",
    "    m_poly = ZnW(m)\n",
    "\n",
    "    u = [ZnW([0]), ZnW([0])]\n",
    "    for i in range(2):\n",
    "        for j in range(2):\n",
    "            u[i] = u[i] + A[j][i] * r[j]\n",
    "        u[i] = u[i] + e1[i]\n",
    "\n",
    "    v = ZnW([0])\n",
    "    for i in range(2):\n",
    "        v = v + t[i] * r[i]\n",
    "    v = v + e2 + (m_poly * q_div)\n",
    "    return u, v\n",
    "    \n",
    "A, t, s = key_gen()\n",
    "m = [1, 0, 1, 1]\n",
    "u, v = encrypt(A, t, m)\n",
    "\n",
    "print_encryption_result(u, v)"
   ]
  },
  {
   "cell_type": "markdown",
   "id": "c0b5fd48",
   "metadata": {},
   "source": [
    "### Deszyfrowanie\n",
    "\n",
    "Zaimplementuj funkcję `decrypt(c,s)` realizującą deszyfrowanie w kryptosystemie Baby Kyber. Funkcja ma zwracać ostateczną odszyfrowaną wiadomość `m_n`. Przetestuj działanie na poniższych danych.\n",
    "\n",
    "$m_n=v-\\mathbf{s}^T\\mathbf{u}:\\ \\ m_n=8x^3+14x^2+8x+6$\n",
    "\n",
    "$m_n=1\\cdot x^3+0\\cdot x^2+1\\cdot x+1$\n"
   ]
  },
  {
   "cell_type": "code",
   "execution_count": 7,
   "id": "8e1be595-66ea-4ec3-89c4-366e379e898d",
   "metadata": {
    "execution": {
     "iopub.execute_input": "2025-01-23T21:50:50.366939Z",
     "iopub.status.busy": "2025-01-23T21:50:50.366939Z",
     "iopub.status.idle": "2025-01-23T21:50:50.371060Z",
     "shell.execute_reply": "2025-01-23T21:50:50.371060Z",
     "shell.execute_reply.started": "2025-01-23T21:50:50.366939Z"
    }
   },
   "outputs": [],
   "source": [
    "def print_decryption_result(m):\n",
    "    print(\"\\nZdeszyfrowane wartości:\\n\")\n",
    "\n",
    "    formatted_m = \"\".join(str(bit) for bit in m)\n",
    "    print(f\"m = {formatted_m}\")"
   ]
  },
  {
   "cell_type": "code",
   "execution_count": 8,
   "id": "9d5ea81f",
   "metadata": {
    "execution": {
     "iopub.execute_input": "2025-01-23T21:50:50.372118Z",
     "iopub.status.busy": "2025-01-23T21:50:50.372118Z",
     "iopub.status.idle": "2025-01-23T21:50:50.377674Z",
     "shell.execute_reply": "2025-01-23T21:50:50.377092Z",
     "shell.execute_reply.started": "2025-01-23T21:50:50.372118Z"
    }
   },
   "outputs": [
    {
     "name": "stdout",
     "output_type": "stream",
     "text": [
      "\n",
      "Zdeszyfrowane wartości:\n",
      "\n",
      "m = 1011\n"
     ]
    }
   ],
   "source": [
    "def decrypt(c, s, test=False):\n",
    "    u, v = c\n",
    "\n",
    "    sTu = ZnW([0])\n",
    "    for i in range(len(s)):\n",
    "        sTu = sTu + s[i] * u[i]\n",
    "\n",
    "    m_n = v - sTu\n",
    "    m_binary = [\n",
    "        1 if coeff >= 5 and coeff <= 12 else 0\n",
    "        for coeff in m_n.X\n",
    "    ]\n",
    "\n",
    "    return m_binary\n",
    "    \n",
    "c = u, v\n",
    "m = decrypt(c, s)\n",
    "print_decryption_result(m)"
   ]
  },
  {
   "cell_type": "markdown",
   "id": "c3bf409c",
   "metadata": {},
   "source": [
    "### Testy"
   ]
  },
  {
   "cell_type": "code",
   "execution_count": 16,
   "id": "839e9142",
   "metadata": {
    "execution": {
     "iopub.execute_input": "2025-01-23T21:56:09.940918Z",
     "iopub.status.busy": "2025-01-23T21:56:09.940918Z",
     "iopub.status.idle": "2025-01-23T21:56:16.111497Z",
     "shell.execute_reply": "2025-01-23T21:56:16.111497Z",
     "shell.execute_reply.started": "2025-01-23T21:56:09.940918Z"
    }
   },
   "outputs": [
    {
     "name": "stdout",
     "output_type": "stream",
     "text": [
      "Success rate: 99.6 %\n",
      "Success rate: 99.8 %\n",
      "Success rate: 99.9 %\n",
      "Success rate: 99.7 %\n",
      "Success rate: 99.8 %\n",
      "Success rate: 99.8 %\n",
      "Success rate: 99.8 %\n",
      "Success rate: 99.3 %\n",
      "Success rate: 99.7 %\n",
      "Success rate: 99.9 %\n"
     ]
    }
   ],
   "source": [
    "import secrets as sc\n",
    "import random\n",
    "\n",
    "for k in range(10):\n",
    "    success = 0\n",
    "    for i in range(1000):\n",
    "        output = []\n",
    "        A,t,s = key_gen(test=True)\n",
    "        \n",
    "        m=[sc.choice((0,1)) for k in range(4)]\n",
    "        \n",
    "        c = encrypt(A,t,m, test=True)\n",
    "        m_n = decrypt(c,s, test=True)\n",
    "    \n",
    "        if m_n == m:\n",
    "            success += 1\n",
    "    \n",
    "    print(f'Success rate: {success * 100 /1000} %')\n"
   ]
  }
 ],
 "metadata": {
  "kernelspec": {
   "display_name": "Python 3 (ipykernel)",
   "language": "python",
   "name": "python3"
  },
  "language_info": {
   "codemirror_mode": {
    "name": "ipython",
    "version": 3
   },
   "file_extension": ".py",
   "mimetype": "text/x-python",
   "name": "python",
   "nbconvert_exporter": "python",
   "pygments_lexer": "ipython3",
   "version": "3.12.7"
  }
 },
 "nbformat": 4,
 "nbformat_minor": 5
}
